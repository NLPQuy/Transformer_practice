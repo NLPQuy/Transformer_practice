{
  "nbformat": 4,
  "nbformat_minor": 0,
  "metadata": {
    "colab": {
      "provenance": [],
      "gpuType": "T4"
    },
    "kernelspec": {
      "name": "python3",
      "display_name": "Python 3"
    },
    "language_info": {
      "name": "python"
    },
    "widgets": {
      "application/vnd.jupyter.widget-state+json": {
        "bbe02ccb15cc44d391825dc06cc8e0aa": {
          "model_module": "@jupyter-widgets/controls",
          "model_name": "HBoxModel",
          "model_module_version": "1.5.0",
          "state": {
            "_dom_classes": [],
            "_model_module": "@jupyter-widgets/controls",
            "_model_module_version": "1.5.0",
            "_model_name": "HBoxModel",
            "_view_count": null,
            "_view_module": "@jupyter-widgets/controls",
            "_view_module_version": "1.5.0",
            "_view_name": "HBoxView",
            "box_style": "",
            "children": [
              "IPY_MODEL_c6e26dae2fcf442f92ab3e2054ea51cc",
              "IPY_MODEL_19c20a20325a450981297bbf427ba756",
              "IPY_MODEL_095f049a8ee54aafb0bcae9115d6a673"
            ],
            "layout": "IPY_MODEL_8188f714a158475a860aa3c5e53ef9e5"
          }
        },
        "c6e26dae2fcf442f92ab3e2054ea51cc": {
          "model_module": "@jupyter-widgets/controls",
          "model_name": "HTMLModel",
          "model_module_version": "1.5.0",
          "state": {
            "_dom_classes": [],
            "_model_module": "@jupyter-widgets/controls",
            "_model_module_version": "1.5.0",
            "_model_name": "HTMLModel",
            "_view_count": null,
            "_view_module": "@jupyter-widgets/controls",
            "_view_module_version": "1.5.0",
            "_view_name": "HTMLView",
            "description": "",
            "description_tooltip": null,
            "layout": "IPY_MODEL_dd25cf879c81419b84ec11a3e1d71b6b",
            "placeholder": "​",
            "style": "IPY_MODEL_f551ed1c7c2843dd8b0b2e2d0b0e4b14",
            "value": "Map: 100%"
          }
        },
        "19c20a20325a450981297bbf427ba756": {
          "model_module": "@jupyter-widgets/controls",
          "model_name": "FloatProgressModel",
          "model_module_version": "1.5.0",
          "state": {
            "_dom_classes": [],
            "_model_module": "@jupyter-widgets/controls",
            "_model_module_version": "1.5.0",
            "_model_name": "FloatProgressModel",
            "_view_count": null,
            "_view_module": "@jupyter-widgets/controls",
            "_view_module_version": "1.5.0",
            "_view_name": "ProgressView",
            "bar_style": "success",
            "description": "",
            "description_tooltip": null,
            "layout": "IPY_MODEL_2757eda5134d47d09d0249a2fe6c673b",
            "max": 200000,
            "min": 0,
            "orientation": "horizontal",
            "style": "IPY_MODEL_2cc50a6dd02c4d6f914f05f2d75945c6",
            "value": 200000
          }
        },
        "095f049a8ee54aafb0bcae9115d6a673": {
          "model_module": "@jupyter-widgets/controls",
          "model_name": "HTMLModel",
          "model_module_version": "1.5.0",
          "state": {
            "_dom_classes": [],
            "_model_module": "@jupyter-widgets/controls",
            "_model_module_version": "1.5.0",
            "_model_name": "HTMLModel",
            "_view_count": null,
            "_view_module": "@jupyter-widgets/controls",
            "_view_module_version": "1.5.0",
            "_view_name": "HTMLView",
            "description": "",
            "description_tooltip": null,
            "layout": "IPY_MODEL_ffb04280c31c48269d59558dcb6b32af",
            "placeholder": "​",
            "style": "IPY_MODEL_3171266f5e4b40dd8c000a46207b4608",
            "value": " 200000/200000 [01:27&lt;00:00, 2832.28 examples/s]"
          }
        },
        "8188f714a158475a860aa3c5e53ef9e5": {
          "model_module": "@jupyter-widgets/base",
          "model_name": "LayoutModel",
          "model_module_version": "1.2.0",
          "state": {
            "_model_module": "@jupyter-widgets/base",
            "_model_module_version": "1.2.0",
            "_model_name": "LayoutModel",
            "_view_count": null,
            "_view_module": "@jupyter-widgets/base",
            "_view_module_version": "1.2.0",
            "_view_name": "LayoutView",
            "align_content": null,
            "align_items": null,
            "align_self": null,
            "border": null,
            "bottom": null,
            "display": null,
            "flex": null,
            "flex_flow": null,
            "grid_area": null,
            "grid_auto_columns": null,
            "grid_auto_flow": null,
            "grid_auto_rows": null,
            "grid_column": null,
            "grid_gap": null,
            "grid_row": null,
            "grid_template_areas": null,
            "grid_template_columns": null,
            "grid_template_rows": null,
            "height": null,
            "justify_content": null,
            "justify_items": null,
            "left": null,
            "margin": null,
            "max_height": null,
            "max_width": null,
            "min_height": null,
            "min_width": null,
            "object_fit": null,
            "object_position": null,
            "order": null,
            "overflow": null,
            "overflow_x": null,
            "overflow_y": null,
            "padding": null,
            "right": null,
            "top": null,
            "visibility": null,
            "width": null
          }
        },
        "dd25cf879c81419b84ec11a3e1d71b6b": {
          "model_module": "@jupyter-widgets/base",
          "model_name": "LayoutModel",
          "model_module_version": "1.2.0",
          "state": {
            "_model_module": "@jupyter-widgets/base",
            "_model_module_version": "1.2.0",
            "_model_name": "LayoutModel",
            "_view_count": null,
            "_view_module": "@jupyter-widgets/base",
            "_view_module_version": "1.2.0",
            "_view_name": "LayoutView",
            "align_content": null,
            "align_items": null,
            "align_self": null,
            "border": null,
            "bottom": null,
            "display": null,
            "flex": null,
            "flex_flow": null,
            "grid_area": null,
            "grid_auto_columns": null,
            "grid_auto_flow": null,
            "grid_auto_rows": null,
            "grid_column": null,
            "grid_gap": null,
            "grid_row": null,
            "grid_template_areas": null,
            "grid_template_columns": null,
            "grid_template_rows": null,
            "height": null,
            "justify_content": null,
            "justify_items": null,
            "left": null,
            "margin": null,
            "max_height": null,
            "max_width": null,
            "min_height": null,
            "min_width": null,
            "object_fit": null,
            "object_position": null,
            "order": null,
            "overflow": null,
            "overflow_x": null,
            "overflow_y": null,
            "padding": null,
            "right": null,
            "top": null,
            "visibility": null,
            "width": null
          }
        },
        "f551ed1c7c2843dd8b0b2e2d0b0e4b14": {
          "model_module": "@jupyter-widgets/controls",
          "model_name": "DescriptionStyleModel",
          "model_module_version": "1.5.0",
          "state": {
            "_model_module": "@jupyter-widgets/controls",
            "_model_module_version": "1.5.0",
            "_model_name": "DescriptionStyleModel",
            "_view_count": null,
            "_view_module": "@jupyter-widgets/base",
            "_view_module_version": "1.2.0",
            "_view_name": "StyleView",
            "description_width": ""
          }
        },
        "2757eda5134d47d09d0249a2fe6c673b": {
          "model_module": "@jupyter-widgets/base",
          "model_name": "LayoutModel",
          "model_module_version": "1.2.0",
          "state": {
            "_model_module": "@jupyter-widgets/base",
            "_model_module_version": "1.2.0",
            "_model_name": "LayoutModel",
            "_view_count": null,
            "_view_module": "@jupyter-widgets/base",
            "_view_module_version": "1.2.0",
            "_view_name": "LayoutView",
            "align_content": null,
            "align_items": null,
            "align_self": null,
            "border": null,
            "bottom": null,
            "display": null,
            "flex": null,
            "flex_flow": null,
            "grid_area": null,
            "grid_auto_columns": null,
            "grid_auto_flow": null,
            "grid_auto_rows": null,
            "grid_column": null,
            "grid_gap": null,
            "grid_row": null,
            "grid_template_areas": null,
            "grid_template_columns": null,
            "grid_template_rows": null,
            "height": null,
            "justify_content": null,
            "justify_items": null,
            "left": null,
            "margin": null,
            "max_height": null,
            "max_width": null,
            "min_height": null,
            "min_width": null,
            "object_fit": null,
            "object_position": null,
            "order": null,
            "overflow": null,
            "overflow_x": null,
            "overflow_y": null,
            "padding": null,
            "right": null,
            "top": null,
            "visibility": null,
            "width": null
          }
        },
        "2cc50a6dd02c4d6f914f05f2d75945c6": {
          "model_module": "@jupyter-widgets/controls",
          "model_name": "ProgressStyleModel",
          "model_module_version": "1.5.0",
          "state": {
            "_model_module": "@jupyter-widgets/controls",
            "_model_module_version": "1.5.0",
            "_model_name": "ProgressStyleModel",
            "_view_count": null,
            "_view_module": "@jupyter-widgets/base",
            "_view_module_version": "1.2.0",
            "_view_name": "StyleView",
            "bar_color": null,
            "description_width": ""
          }
        },
        "ffb04280c31c48269d59558dcb6b32af": {
          "model_module": "@jupyter-widgets/base",
          "model_name": "LayoutModel",
          "model_module_version": "1.2.0",
          "state": {
            "_model_module": "@jupyter-widgets/base",
            "_model_module_version": "1.2.0",
            "_model_name": "LayoutModel",
            "_view_count": null,
            "_view_module": "@jupyter-widgets/base",
            "_view_module_version": "1.2.0",
            "_view_name": "LayoutView",
            "align_content": null,
            "align_items": null,
            "align_self": null,
            "border": null,
            "bottom": null,
            "display": null,
            "flex": null,
            "flex_flow": null,
            "grid_area": null,
            "grid_auto_columns": null,
            "grid_auto_flow": null,
            "grid_auto_rows": null,
            "grid_column": null,
            "grid_gap": null,
            "grid_row": null,
            "grid_template_areas": null,
            "grid_template_columns": null,
            "grid_template_rows": null,
            "height": null,
            "justify_content": null,
            "justify_items": null,
            "left": null,
            "margin": null,
            "max_height": null,
            "max_width": null,
            "min_height": null,
            "min_width": null,
            "object_fit": null,
            "object_position": null,
            "order": null,
            "overflow": null,
            "overflow_x": null,
            "overflow_y": null,
            "padding": null,
            "right": null,
            "top": null,
            "visibility": null,
            "width": null
          }
        },
        "3171266f5e4b40dd8c000a46207b4608": {
          "model_module": "@jupyter-widgets/controls",
          "model_name": "DescriptionStyleModel",
          "model_module_version": "1.5.0",
          "state": {
            "_model_module": "@jupyter-widgets/controls",
            "_model_module_version": "1.5.0",
            "_model_name": "DescriptionStyleModel",
            "_view_count": null,
            "_view_module": "@jupyter-widgets/base",
            "_view_module_version": "1.2.0",
            "_view_name": "StyleView",
            "description_width": ""
          }
        },
        "a13c6e66753f4be0acaa1a17e94ef9bb": {
          "model_module": "@jupyter-widgets/controls",
          "model_name": "HBoxModel",
          "model_module_version": "1.5.0",
          "state": {
            "_dom_classes": [],
            "_model_module": "@jupyter-widgets/controls",
            "_model_module_version": "1.5.0",
            "_model_name": "HBoxModel",
            "_view_count": null,
            "_view_module": "@jupyter-widgets/controls",
            "_view_module_version": "1.5.0",
            "_view_name": "HBoxView",
            "box_style": "",
            "children": [
              "IPY_MODEL_e581d1627f9a4af9bafd3b4539f2bebc",
              "IPY_MODEL_fe4cfaf2211d463fa9ff84fda6b47c83",
              "IPY_MODEL_96f42d047e7e4cfbb9165eb1d94926a1"
            ],
            "layout": "IPY_MODEL_2c61b2590563463b8d6e58ce824b5ca5"
          }
        },
        "e581d1627f9a4af9bafd3b4539f2bebc": {
          "model_module": "@jupyter-widgets/controls",
          "model_name": "HTMLModel",
          "model_module_version": "1.5.0",
          "state": {
            "_dom_classes": [],
            "_model_module": "@jupyter-widgets/controls",
            "_model_module_version": "1.5.0",
            "_model_name": "HTMLModel",
            "_view_count": null,
            "_view_module": "@jupyter-widgets/controls",
            "_view_module_version": "1.5.0",
            "_view_name": "HTMLView",
            "description": "",
            "description_tooltip": null,
            "layout": "IPY_MODEL_bdf130923f344459bd5423296ac0ac9d",
            "placeholder": "​",
            "style": "IPY_MODEL_786fb4102885415cae65a253ec456299",
            "value": "Map: 100%"
          }
        },
        "fe4cfaf2211d463fa9ff84fda6b47c83": {
          "model_module": "@jupyter-widgets/controls",
          "model_name": "FloatProgressModel",
          "model_module_version": "1.5.0",
          "state": {
            "_dom_classes": [],
            "_model_module": "@jupyter-widgets/controls",
            "_model_module_version": "1.5.0",
            "_model_name": "FloatProgressModel",
            "_view_count": null,
            "_view_module": "@jupyter-widgets/controls",
            "_view_module_version": "1.5.0",
            "_view_name": "ProgressView",
            "bar_style": "success",
            "description": "",
            "description_tooltip": null,
            "layout": "IPY_MODEL_05706b73bac241f0958e4ca049cb3396",
            "max": 100,
            "min": 0,
            "orientation": "horizontal",
            "style": "IPY_MODEL_d50c17cc9f774e89863122e1ab2739ce",
            "value": 100
          }
        },
        "96f42d047e7e4cfbb9165eb1d94926a1": {
          "model_module": "@jupyter-widgets/controls",
          "model_name": "HTMLModel",
          "model_module_version": "1.5.0",
          "state": {
            "_dom_classes": [],
            "_model_module": "@jupyter-widgets/controls",
            "_model_module_version": "1.5.0",
            "_model_name": "HTMLModel",
            "_view_count": null,
            "_view_module": "@jupyter-widgets/controls",
            "_view_module_version": "1.5.0",
            "_view_name": "HTMLView",
            "description": "",
            "description_tooltip": null,
            "layout": "IPY_MODEL_afaabea09c2e4d3794defbd65a77ddd9",
            "placeholder": "​",
            "style": "IPY_MODEL_f9e8f91611014edda8e8f7a6997f006e",
            "value": " 100/100 [00:00&lt;00:00, 1253.88 examples/s]"
          }
        },
        "2c61b2590563463b8d6e58ce824b5ca5": {
          "model_module": "@jupyter-widgets/base",
          "model_name": "LayoutModel",
          "model_module_version": "1.2.0",
          "state": {
            "_model_module": "@jupyter-widgets/base",
            "_model_module_version": "1.2.0",
            "_model_name": "LayoutModel",
            "_view_count": null,
            "_view_module": "@jupyter-widgets/base",
            "_view_module_version": "1.2.0",
            "_view_name": "LayoutView",
            "align_content": null,
            "align_items": null,
            "align_self": null,
            "border": null,
            "bottom": null,
            "display": null,
            "flex": null,
            "flex_flow": null,
            "grid_area": null,
            "grid_auto_columns": null,
            "grid_auto_flow": null,
            "grid_auto_rows": null,
            "grid_column": null,
            "grid_gap": null,
            "grid_row": null,
            "grid_template_areas": null,
            "grid_template_columns": null,
            "grid_template_rows": null,
            "height": null,
            "justify_content": null,
            "justify_items": null,
            "left": null,
            "margin": null,
            "max_height": null,
            "max_width": null,
            "min_height": null,
            "min_width": null,
            "object_fit": null,
            "object_position": null,
            "order": null,
            "overflow": null,
            "overflow_x": null,
            "overflow_y": null,
            "padding": null,
            "right": null,
            "top": null,
            "visibility": null,
            "width": null
          }
        },
        "bdf130923f344459bd5423296ac0ac9d": {
          "model_module": "@jupyter-widgets/base",
          "model_name": "LayoutModel",
          "model_module_version": "1.2.0",
          "state": {
            "_model_module": "@jupyter-widgets/base",
            "_model_module_version": "1.2.0",
            "_model_name": "LayoutModel",
            "_view_count": null,
            "_view_module": "@jupyter-widgets/base",
            "_view_module_version": "1.2.0",
            "_view_name": "LayoutView",
            "align_content": null,
            "align_items": null,
            "align_self": null,
            "border": null,
            "bottom": null,
            "display": null,
            "flex": null,
            "flex_flow": null,
            "grid_area": null,
            "grid_auto_columns": null,
            "grid_auto_flow": null,
            "grid_auto_rows": null,
            "grid_column": null,
            "grid_gap": null,
            "grid_row": null,
            "grid_template_areas": null,
            "grid_template_columns": null,
            "grid_template_rows": null,
            "height": null,
            "justify_content": null,
            "justify_items": null,
            "left": null,
            "margin": null,
            "max_height": null,
            "max_width": null,
            "min_height": null,
            "min_width": null,
            "object_fit": null,
            "object_position": null,
            "order": null,
            "overflow": null,
            "overflow_x": null,
            "overflow_y": null,
            "padding": null,
            "right": null,
            "top": null,
            "visibility": null,
            "width": null
          }
        },
        "786fb4102885415cae65a253ec456299": {
          "model_module": "@jupyter-widgets/controls",
          "model_name": "DescriptionStyleModel",
          "model_module_version": "1.5.0",
          "state": {
            "_model_module": "@jupyter-widgets/controls",
            "_model_module_version": "1.5.0",
            "_model_name": "DescriptionStyleModel",
            "_view_count": null,
            "_view_module": "@jupyter-widgets/base",
            "_view_module_version": "1.2.0",
            "_view_name": "StyleView",
            "description_width": ""
          }
        },
        "05706b73bac241f0958e4ca049cb3396": {
          "model_module": "@jupyter-widgets/base",
          "model_name": "LayoutModel",
          "model_module_version": "1.2.0",
          "state": {
            "_model_module": "@jupyter-widgets/base",
            "_model_module_version": "1.2.0",
            "_model_name": "LayoutModel",
            "_view_count": null,
            "_view_module": "@jupyter-widgets/base",
            "_view_module_version": "1.2.0",
            "_view_name": "LayoutView",
            "align_content": null,
            "align_items": null,
            "align_self": null,
            "border": null,
            "bottom": null,
            "display": null,
            "flex": null,
            "flex_flow": null,
            "grid_area": null,
            "grid_auto_columns": null,
            "grid_auto_flow": null,
            "grid_auto_rows": null,
            "grid_column": null,
            "grid_gap": null,
            "grid_row": null,
            "grid_template_areas": null,
            "grid_template_columns": null,
            "grid_template_rows": null,
            "height": null,
            "justify_content": null,
            "justify_items": null,
            "left": null,
            "margin": null,
            "max_height": null,
            "max_width": null,
            "min_height": null,
            "min_width": null,
            "object_fit": null,
            "object_position": null,
            "order": null,
            "overflow": null,
            "overflow_x": null,
            "overflow_y": null,
            "padding": null,
            "right": null,
            "top": null,
            "visibility": null,
            "width": null
          }
        },
        "d50c17cc9f774e89863122e1ab2739ce": {
          "model_module": "@jupyter-widgets/controls",
          "model_name": "ProgressStyleModel",
          "model_module_version": "1.5.0",
          "state": {
            "_model_module": "@jupyter-widgets/controls",
            "_model_module_version": "1.5.0",
            "_model_name": "ProgressStyleModel",
            "_view_count": null,
            "_view_module": "@jupyter-widgets/base",
            "_view_module_version": "1.2.0",
            "_view_name": "StyleView",
            "bar_color": null,
            "description_width": ""
          }
        },
        "afaabea09c2e4d3794defbd65a77ddd9": {
          "model_module": "@jupyter-widgets/base",
          "model_name": "LayoutModel",
          "model_module_version": "1.2.0",
          "state": {
            "_model_module": "@jupyter-widgets/base",
            "_model_module_version": "1.2.0",
            "_model_name": "LayoutModel",
            "_view_count": null,
            "_view_module": "@jupyter-widgets/base",
            "_view_module_version": "1.2.0",
            "_view_name": "LayoutView",
            "align_content": null,
            "align_items": null,
            "align_self": null,
            "border": null,
            "bottom": null,
            "display": null,
            "flex": null,
            "flex_flow": null,
            "grid_area": null,
            "grid_auto_columns": null,
            "grid_auto_flow": null,
            "grid_auto_rows": null,
            "grid_column": null,
            "grid_gap": null,
            "grid_row": null,
            "grid_template_areas": null,
            "grid_template_columns": null,
            "grid_template_rows": null,
            "height": null,
            "justify_content": null,
            "justify_items": null,
            "left": null,
            "margin": null,
            "max_height": null,
            "max_width": null,
            "min_height": null,
            "min_width": null,
            "object_fit": null,
            "object_position": null,
            "order": null,
            "overflow": null,
            "overflow_x": null,
            "overflow_y": null,
            "padding": null,
            "right": null,
            "top": null,
            "visibility": null,
            "width": null
          }
        },
        "f9e8f91611014edda8e8f7a6997f006e": {
          "model_module": "@jupyter-widgets/controls",
          "model_name": "DescriptionStyleModel",
          "model_module_version": "1.5.0",
          "state": {
            "_model_module": "@jupyter-widgets/controls",
            "_model_module_version": "1.5.0",
            "_model_name": "DescriptionStyleModel",
            "_view_count": null,
            "_view_module": "@jupyter-widgets/base",
            "_view_module_version": "1.2.0",
            "_view_name": "StyleView",
            "description_width": ""
          }
        },
        "17491bdab96348a48ea05cc1b303d79e": {
          "model_module": "@jupyter-widgets/controls",
          "model_name": "HBoxModel",
          "model_module_version": "1.5.0",
          "state": {
            "_dom_classes": [],
            "_model_module": "@jupyter-widgets/controls",
            "_model_module_version": "1.5.0",
            "_model_name": "HBoxModel",
            "_view_count": null,
            "_view_module": "@jupyter-widgets/controls",
            "_view_module_version": "1.5.0",
            "_view_name": "HBoxView",
            "box_style": "",
            "children": [
              "IPY_MODEL_1ae6bdcfbec34fc29e2aa905deb2d6e3",
              "IPY_MODEL_a754729e5aab42ba8efa61bf8c13e8c1",
              "IPY_MODEL_95fff8f250284358ad2bc4112ff49b74"
            ],
            "layout": "IPY_MODEL_5ef7a141de7b4c1192f5c471d7426480"
          }
        },
        "1ae6bdcfbec34fc29e2aa905deb2d6e3": {
          "model_module": "@jupyter-widgets/controls",
          "model_name": "HTMLModel",
          "model_module_version": "1.5.0",
          "state": {
            "_dom_classes": [],
            "_model_module": "@jupyter-widgets/controls",
            "_model_module_version": "1.5.0",
            "_model_name": "HTMLModel",
            "_view_count": null,
            "_view_module": "@jupyter-widgets/controls",
            "_view_module_version": "1.5.0",
            "_view_name": "HTMLView",
            "description": "",
            "description_tooltip": null,
            "layout": "IPY_MODEL_ee01c2d2b59149be894890aeb2184a39",
            "placeholder": "​",
            "style": "IPY_MODEL_d81fa407b6ef4d628998c921a1d7f886",
            "value": "Map: 100%"
          }
        },
        "a754729e5aab42ba8efa61bf8c13e8c1": {
          "model_module": "@jupyter-widgets/controls",
          "model_name": "FloatProgressModel",
          "model_module_version": "1.5.0",
          "state": {
            "_dom_classes": [],
            "_model_module": "@jupyter-widgets/controls",
            "_model_module_version": "1.5.0",
            "_model_name": "FloatProgressModel",
            "_view_count": null,
            "_view_module": "@jupyter-widgets/controls",
            "_view_module_version": "1.5.0",
            "_view_name": "ProgressView",
            "bar_style": "success",
            "description": "",
            "description_tooltip": null,
            "layout": "IPY_MODEL_d0651488f5634d8296034a56b5031dca",
            "max": 100,
            "min": 0,
            "orientation": "horizontal",
            "style": "IPY_MODEL_a06704837a65405795872b9cf5ceca3d",
            "value": 100
          }
        },
        "95fff8f250284358ad2bc4112ff49b74": {
          "model_module": "@jupyter-widgets/controls",
          "model_name": "HTMLModel",
          "model_module_version": "1.5.0",
          "state": {
            "_dom_classes": [],
            "_model_module": "@jupyter-widgets/controls",
            "_model_module_version": "1.5.0",
            "_model_name": "HTMLModel",
            "_view_count": null,
            "_view_module": "@jupyter-widgets/controls",
            "_view_module_version": "1.5.0",
            "_view_name": "HTMLView",
            "description": "",
            "description_tooltip": null,
            "layout": "IPY_MODEL_ca939a5a09134c75b60c0de69cbd7464",
            "placeholder": "​",
            "style": "IPY_MODEL_68f4f44421074a15926884d6734c73da",
            "value": " 100/100 [00:00&lt;00:00, 1589.81 examples/s]"
          }
        },
        "5ef7a141de7b4c1192f5c471d7426480": {
          "model_module": "@jupyter-widgets/base",
          "model_name": "LayoutModel",
          "model_module_version": "1.2.0",
          "state": {
            "_model_module": "@jupyter-widgets/base",
            "_model_module_version": "1.2.0",
            "_model_name": "LayoutModel",
            "_view_count": null,
            "_view_module": "@jupyter-widgets/base",
            "_view_module_version": "1.2.0",
            "_view_name": "LayoutView",
            "align_content": null,
            "align_items": null,
            "align_self": null,
            "border": null,
            "bottom": null,
            "display": null,
            "flex": null,
            "flex_flow": null,
            "grid_area": null,
            "grid_auto_columns": null,
            "grid_auto_flow": null,
            "grid_auto_rows": null,
            "grid_column": null,
            "grid_gap": null,
            "grid_row": null,
            "grid_template_areas": null,
            "grid_template_columns": null,
            "grid_template_rows": null,
            "height": null,
            "justify_content": null,
            "justify_items": null,
            "left": null,
            "margin": null,
            "max_height": null,
            "max_width": null,
            "min_height": null,
            "min_width": null,
            "object_fit": null,
            "object_position": null,
            "order": null,
            "overflow": null,
            "overflow_x": null,
            "overflow_y": null,
            "padding": null,
            "right": null,
            "top": null,
            "visibility": null,
            "width": null
          }
        },
        "ee01c2d2b59149be894890aeb2184a39": {
          "model_module": "@jupyter-widgets/base",
          "model_name": "LayoutModel",
          "model_module_version": "1.2.0",
          "state": {
            "_model_module": "@jupyter-widgets/base",
            "_model_module_version": "1.2.0",
            "_model_name": "LayoutModel",
            "_view_count": null,
            "_view_module": "@jupyter-widgets/base",
            "_view_module_version": "1.2.0",
            "_view_name": "LayoutView",
            "align_content": null,
            "align_items": null,
            "align_self": null,
            "border": null,
            "bottom": null,
            "display": null,
            "flex": null,
            "flex_flow": null,
            "grid_area": null,
            "grid_auto_columns": null,
            "grid_auto_flow": null,
            "grid_auto_rows": null,
            "grid_column": null,
            "grid_gap": null,
            "grid_row": null,
            "grid_template_areas": null,
            "grid_template_columns": null,
            "grid_template_rows": null,
            "height": null,
            "justify_content": null,
            "justify_items": null,
            "left": null,
            "margin": null,
            "max_height": null,
            "max_width": null,
            "min_height": null,
            "min_width": null,
            "object_fit": null,
            "object_position": null,
            "order": null,
            "overflow": null,
            "overflow_x": null,
            "overflow_y": null,
            "padding": null,
            "right": null,
            "top": null,
            "visibility": null,
            "width": null
          }
        },
        "d81fa407b6ef4d628998c921a1d7f886": {
          "model_module": "@jupyter-widgets/controls",
          "model_name": "DescriptionStyleModel",
          "model_module_version": "1.5.0",
          "state": {
            "_model_module": "@jupyter-widgets/controls",
            "_model_module_version": "1.5.0",
            "_model_name": "DescriptionStyleModel",
            "_view_count": null,
            "_view_module": "@jupyter-widgets/base",
            "_view_module_version": "1.2.0",
            "_view_name": "StyleView",
            "description_width": ""
          }
        },
        "d0651488f5634d8296034a56b5031dca": {
          "model_module": "@jupyter-widgets/base",
          "model_name": "LayoutModel",
          "model_module_version": "1.2.0",
          "state": {
            "_model_module": "@jupyter-widgets/base",
            "_model_module_version": "1.2.0",
            "_model_name": "LayoutModel",
            "_view_count": null,
            "_view_module": "@jupyter-widgets/base",
            "_view_module_version": "1.2.0",
            "_view_name": "LayoutView",
            "align_content": null,
            "align_items": null,
            "align_self": null,
            "border": null,
            "bottom": null,
            "display": null,
            "flex": null,
            "flex_flow": null,
            "grid_area": null,
            "grid_auto_columns": null,
            "grid_auto_flow": null,
            "grid_auto_rows": null,
            "grid_column": null,
            "grid_gap": null,
            "grid_row": null,
            "grid_template_areas": null,
            "grid_template_columns": null,
            "grid_template_rows": null,
            "height": null,
            "justify_content": null,
            "justify_items": null,
            "left": null,
            "margin": null,
            "max_height": null,
            "max_width": null,
            "min_height": null,
            "min_width": null,
            "object_fit": null,
            "object_position": null,
            "order": null,
            "overflow": null,
            "overflow_x": null,
            "overflow_y": null,
            "padding": null,
            "right": null,
            "top": null,
            "visibility": null,
            "width": null
          }
        },
        "a06704837a65405795872b9cf5ceca3d": {
          "model_module": "@jupyter-widgets/controls",
          "model_name": "ProgressStyleModel",
          "model_module_version": "1.5.0",
          "state": {
            "_model_module": "@jupyter-widgets/controls",
            "_model_module_version": "1.5.0",
            "_model_name": "ProgressStyleModel",
            "_view_count": null,
            "_view_module": "@jupyter-widgets/base",
            "_view_module_version": "1.2.0",
            "_view_name": "StyleView",
            "bar_color": null,
            "description_width": ""
          }
        },
        "ca939a5a09134c75b60c0de69cbd7464": {
          "model_module": "@jupyter-widgets/base",
          "model_name": "LayoutModel",
          "model_module_version": "1.2.0",
          "state": {
            "_model_module": "@jupyter-widgets/base",
            "_model_module_version": "1.2.0",
            "_model_name": "LayoutModel",
            "_view_count": null,
            "_view_module": "@jupyter-widgets/base",
            "_view_module_version": "1.2.0",
            "_view_name": "LayoutView",
            "align_content": null,
            "align_items": null,
            "align_self": null,
            "border": null,
            "bottom": null,
            "display": null,
            "flex": null,
            "flex_flow": null,
            "grid_area": null,
            "grid_auto_columns": null,
            "grid_auto_flow": null,
            "grid_auto_rows": null,
            "grid_column": null,
            "grid_gap": null,
            "grid_row": null,
            "grid_template_areas": null,
            "grid_template_columns": null,
            "grid_template_rows": null,
            "height": null,
            "justify_content": null,
            "justify_items": null,
            "left": null,
            "margin": null,
            "max_height": null,
            "max_width": null,
            "min_height": null,
            "min_width": null,
            "object_fit": null,
            "object_position": null,
            "order": null,
            "overflow": null,
            "overflow_x": null,
            "overflow_y": null,
            "padding": null,
            "right": null,
            "top": null,
            "visibility": null,
            "width": null
          }
        },
        "68f4f44421074a15926884d6734c73da": {
          "model_module": "@jupyter-widgets/controls",
          "model_name": "DescriptionStyleModel",
          "model_module_version": "1.5.0",
          "state": {
            "_model_module": "@jupyter-widgets/controls",
            "_model_module_version": "1.5.0",
            "_model_name": "DescriptionStyleModel",
            "_view_count": null,
            "_view_module": "@jupyter-widgets/base",
            "_view_module_version": "1.2.0",
            "_view_name": "StyleView",
            "description_width": ""
          }
        }
      }
    },
    "accelerator": "GPU"
  },
  "cells": [
    {
      "cell_type": "code",
      "execution_count": 1,
      "metadata": {
        "id": "PmucJvNmoTN9"
      },
      "outputs": [],
      "source": [
        "import torch\n",
        "import math\n",
        "from torch import nn"
      ]
    },
    {
      "cell_type": "code",
      "source": [
        "class InputEmbeddings(nn.Module):\n",
        "  def __init__(self, vocab_size, d_model):\n",
        "    super().__init__()\n",
        "    self.vocab_size = vocab_size\n",
        "    self.d_model = d_model\n",
        "    self.embeddings = nn.Embedding(vocab_size, d_model)\n",
        "\n",
        "  def forward(self, x):\n",
        "    return self.embeddings(x)\n"
      ],
      "metadata": {
        "id": "LK3DjnBKobeh"
      },
      "execution_count": 2,
      "outputs": []
    },
    {
      "cell_type": "code",
      "source": [
        "class PositionalEmbeddings(nn.Module):\n",
        "  def __init__(self, seq_len, d_model, dropout):\n",
        "    super().__init__()\n",
        "    self.seq_len = seq_len\n",
        "    self.d_model = d_model\n",
        "    self.dropout = nn.Dropout(dropout)\n",
        "    # Create an embedding matrix of shape (seq_len, d_model)\n",
        "    pe = torch.zeros((seq_len, d_model))\n",
        "    div_term = torch.exp(torch.arange(0, d_model, 2).float() * (-math.log(10000) / d_model))\n",
        "    positions = torch.arange(0, seq_len, dtype=torch.float32).unsqueeze(1) # Add dim1 to enable broadcast\n",
        "    pe[:, 0::2] = torch.sin(positions * div_term)\n",
        "    pe[:, 1::2] = torch.cos(positions * div_term)\n",
        "    pe = pe.unsqueeze(0)\n",
        "    self.register_buffer('pe', pe)\n",
        "  def forward(self, x):\n",
        "    x = x + self.pe[:, : x.shape[1], :]\n",
        "    return self.dropout(x)\n",
        "\n"
      ],
      "metadata": {
        "id": "r2LEmiYapc-Y"
      },
      "execution_count": 3,
      "outputs": []
    },
    {
      "cell_type": "code",
      "source": [
        "class LayerNormalization(nn.Module):\n",
        "  def __init__(self, eps=1e-6):\n",
        "    super().__init__()\n",
        "    self.eps = eps\n",
        "    self.alpha = nn.Parameter(torch.ones(1)) #Multiplied\n",
        "    self.bias = nn.Parameter(torch.zeros(1)) # Added\n",
        "\n",
        "  def forward(self, x):\n",
        "\n",
        "    mean = x.mean(dim=-1, keepdim=True)\n",
        "    std = x.std(dim=-1, keepdim=True)\n",
        "    x = (x - mean) / (std + self.eps)\n",
        "    x = x * self.alpha + self.bias\n",
        "    return x"
      ],
      "metadata": {
        "id": "1d_N0T8FuiJA"
      },
      "execution_count": 4,
      "outputs": []
    },
    {
      "cell_type": "code",
      "source": [
        "class FeedForward(nn.Module):\n",
        "  def __init__(self, d_model, d_ff, dropout):\n",
        "    super().__init__()\n",
        "    self.linear_1 = nn.Linear(d_model, d_ff)\n",
        "    self.relu = nn.ReLU()\n",
        "    self.dropout = nn.Dropout(dropout)\n",
        "    self.linear_2 = nn.Linear(d_ff, d_model)\n",
        "\n",
        "  def forward(self, x):\n",
        "    return self.linear_2(self.dropout(self.relu(self.linear_1(x))))"
      ],
      "metadata": {
        "id": "-_S1CLBfwRsx"
      },
      "execution_count": 5,
      "outputs": []
    },
    {
      "cell_type": "code",
      "source": [
        "class MultiHeadAttention(nn.Module):\n",
        "  def __init__(self, d_model, h, dropout):\n",
        "    super().__init__()\n",
        "    self.d_model = d_model\n",
        "    self.h = h\n",
        "    self.dropout = nn.Dropout(dropout)\n",
        "    assert d_model % h == 0, \"d_model must be divided by h\"\n",
        "    self.d_k = d_model // h\n",
        "    self.w_q = nn.Linear(d_model, d_model, bias=False)\n",
        "    self.w_k = nn.Linear(d_model, d_model, bias=False)\n",
        "    self.w_v = nn.Linear(d_model, d_model, bias=False)\n",
        "    self.w_o = nn.Linear(d_model, d_model, bias=False)\n",
        "\n",
        "  def forward(self, q, k, v, mask):\n",
        "    query = self.w_q(q) # (batch_size, seq_len, d_model)\n",
        "    key = self.w_k(k)\n",
        "    value = self.w_v(v)\n",
        "    # (batch_size, seq_len, d_model) ---> (batch_size, seq_len, num_heads, d_k) ---> (batch_size, num_heads, seq_len, d_k)\n",
        "    query = query.reshape(query.shape[0], query.shape[1], self.h, self.d_k).transpose(1, 2)\n",
        "    key = key.reshape(key.shape[0], key.shape[1], self.h, self.d_k).transpose(1, 2)\n",
        "    value = value.reshape(value.shape[0], value.shape[1], self.h, self.d_k).transpose(1, 2)\n",
        "\n",
        "    # Calculate attention_scores\n",
        "    attention_scores = torch.einsum('bhqd,bhkd->bhqk', query, key) # (Batch_size, num_heads, query_len, key_len)\n",
        "\n",
        "    if mask is not None:\n",
        "      attention_scores = attention_scores.masked_fill(mask == 0, float('-inf'))\n",
        "    # Apply softmax\n",
        "    attention_scores = torch.softmax(attention_scores, dim=-1) #(Batch_size, num_heads, query_len, key_len)\n",
        "    attention_scores = self.dropout(attention_scores)\n",
        "    # calculate output\n",
        "    output = torch.einsum('bhqk,bhkd->bhqd', attention_scores, value)\n",
        "    output = output.transpose(1,2)\n",
        "    output = output.reshape(output.shape[0], output.shape[1], -1)\n",
        "    return self.w_o(output)"
      ],
      "metadata": {
        "id": "KNw4HgfRy_3F"
      },
      "execution_count": 6,
      "outputs": []
    },
    {
      "cell_type": "code",
      "source": [
        "class EncoderBlock(nn.Module):\n",
        "  def __init__(self, attention_block: MultiHeadAttention, ffn: FeedForward, dropout):\n",
        "    super().__init__()\n",
        "    self.attention_block = attention_block\n",
        "    self.norm1 = LayerNormalization()\n",
        "    self.norm2 = LayerNormalization()\n",
        "    self.ffn = ffn\n",
        "    self.dropout = nn.Dropout(dropout)\n",
        "  def forward(self, x, encode_mask):\n",
        "    norm_x = self.norm1(x)\n",
        "    attention_output = self.attention_block(norm_x,norm_x,norm_x, encode_mask)\n",
        "    attention_output = self.dropout(attention_output)\n",
        "    x = x + attention_output\n",
        "    norm_x = self.norm2(x)\n",
        "    ffn_output = self.dropout(self.ffn(norm_x))\n",
        "    output = x + ffn_output\n",
        "    return output\n",
        "\n",
        "class Encoder(nn.Module):\n",
        "  def __init__(self, layers: nn.ModuleList):\n",
        "    super().__init__()\n",
        "    self.layers = layers\n",
        "    self.norm = LayerNormalization()\n",
        "  def forward(self, x, encode_mask):\n",
        "    for layer in self.layers:\n",
        "      x = layer(x, encode_mask)\n",
        "    return self.norm(x)\n"
      ],
      "metadata": {
        "id": "4PEqs6IHAp1L"
      },
      "execution_count": 7,
      "outputs": []
    },
    {
      "cell_type": "code",
      "source": [
        "class DecoderBlock(nn.Module):\n",
        "  def __init__(self, cross_attention: MultiHeadAttention, self_attention: MultiHeadAttention, ffn: FeedForward, dropout):\n",
        "    super().__init__()\n",
        "    self.cross_attention = cross_attention\n",
        "    self.self_attention = self_attention\n",
        "    self.ffn = ffn\n",
        "    self.norm1 = LayerNormalization()\n",
        "    self.norm2 = LayerNormalization()\n",
        "    self.norm3 = LayerNormalization()\n",
        "    self.dropout = nn.Dropout(dropout)\n",
        "\n",
        "  def forward(self, x, encode_out, src_mask, tgt_mask):\n",
        "    norm_x = self.norm1(x)\n",
        "    self_attention_output = self.self_attention(norm_x, norm_x, norm_x, tgt_mask)\n",
        "    self_attention_output = self.dropout(self_attention_output)\n",
        "    x = x + self_attention_output\n",
        "\n",
        "    norm_x = self.norm2(x)\n",
        "    cross_attention_output = self.cross_attention(norm_x, encode_out, encode_out, src_mask)\n",
        "    cross_attention_output = self.dropout(cross_attention_output)\n",
        "    x = x + cross_attention_output\n",
        "\n",
        "    norm_x = self.norm3(x)\n",
        "    ffn_output = self.ffn(norm_x)\n",
        "    ffn_output = self.dropout(ffn_output)\n",
        "    x = x + ffn_output\n",
        "    return x\n",
        "\n",
        "class Projection(nn.Module):\n",
        "  def __init__(self, d_model, tgt_vocab_size):\n",
        "    super().__init__()\n",
        "    self.d_model = d_model\n",
        "    self.tgt_vocab_size = tgt_vocab_size\n",
        "    self.projection = nn.Linear(d_model, tgt_vocab_size)\n",
        "\n",
        "  def forward(self, x):\n",
        "    return self.projection(x)\n",
        "\n",
        "class Decoder(nn.Module):\n",
        "  def __init__(self, layers: nn.ModuleList, projection: Projection):\n",
        "    super().__init__()\n",
        "    self.layers = layers\n",
        "    self.norm = LayerNormalization()\n",
        "    self.projection = projection\n",
        "\n",
        "  def forward(self, x, encode_out, src_mask, tgt_mask):\n",
        "    for layer in self.layers:\n",
        "      x = layer(x, encode_out, src_mask, tgt_mask)\n",
        "    x = self.norm(x)\n",
        "    x = self.projection(x)\n",
        "    x = torch.log_softmax(x, dim=-1)\n",
        "    return x\n"
      ],
      "metadata": {
        "id": "5YxWqN-lkDv-"
      },
      "execution_count": 8,
      "outputs": []
    },
    {
      "cell_type": "code",
      "source": [
        "class Transformer(nn.Module):\n",
        "  def __init__(self, src_embeddings: InputEmbeddings, tgt_embeddings: InputEmbeddings, src_pos: PositionalEmbeddings, tgt_pos: PositionalEmbeddings, encoder: Encoder, decoder: Decoder) -> None:\n",
        "    super().__init__()\n",
        "    self.encoder = encoder\n",
        "    self.decoder = decoder\n",
        "    self.src_embed = src_embeddings\n",
        "    self.tgt_embed = tgt_embeddings\n",
        "    self.src_pos = src_pos\n",
        "    self.tgt_pos = tgt_pos\n",
        "\n",
        "  def encode(self, src, src_mask):\n",
        "    x = self.src_embed(src)\n",
        "    x = self.src_pos(x)\n",
        "    return self.encoder(x, src_mask)\n",
        "\n",
        "  def decode(self, tgt, encode_out, src_mask, tgt_mask):\n",
        "    x = self.tgt_embed(tgt)\n",
        "    x = self.tgt_pos(x)\n",
        "    return self.decoder(x, encode_out, src_mask, tgt_mask)\n"
      ],
      "metadata": {
        "id": "r8dAq8YIzSpG"
      },
      "execution_count": 9,
      "outputs": []
    },
    {
      "cell_type": "code",
      "source": [
        "def build_transformer(src_vocab_size, tgt_vocab_size, src_seq_len, tgt_seq_len, d_model = 512, num_layers = 6, num_heads = 8, d_ff = 2048, dropout=0.2):\n",
        "  src_embeddings = InputEmbeddings(src_vocab_size, d_model)\n",
        "  tgt_embeddings = InputEmbeddings(tgt_vocab_size, d_model)\n",
        "\n",
        "  src_pos_embeddings = PositionalEmbeddings(src_seq_len, d_model, dropout)\n",
        "  tgt_pos_embeddings = PositionalEmbeddings(tgt_seq_len, d_model, dropout)\n",
        "\n",
        "  encoder_blocks = []\n",
        "  for _ in range(num_layers):\n",
        "    attention_block = MultiHeadAttention(d_model, num_heads, dropout)\n",
        "    ffn = FeedForward(d_model, d_ff, dropout)\n",
        "    encoder_block = EncoderBlock(attention_block, ffn, dropout)\n",
        "    encoder_blocks.append(encoder_block)\n",
        "\n",
        "  encoder = Encoder(nn.ModuleList(encoder_blocks))\n",
        "  decoder_blocks = []\n",
        "  for _ in range(num_layers):\n",
        "    cross_attention = MultiHeadAttention(d_model, num_heads, dropout)\n",
        "    self_attention = MultiHeadAttention(d_model, num_heads, dropout)\n",
        "    ffn = FeedForward(d_model, d_ff, dropout)\n",
        "    decoder_block = DecoderBlock(cross_attention, self_attention, ffn, dropout)\n",
        "    decoder_blocks.append(decoder_block)\n",
        "\n",
        "  projection_layer = Projection(d_model, tgt_vocab_size)\n",
        "  decoder = Decoder(nn.ModuleList(decoder_blocks), projection_layer)\n",
        "\n",
        "  transformer = Transformer(src_embeddings, tgt_embeddings, src_pos_embeddings, tgt_pos_embeddings, encoder, decoder)\n",
        "  for p in transformer.parameters():\n",
        "    if p.dim() > 1:\n",
        "      nn.init.xavier_uniform_(p)\n",
        "  return transformer"
      ],
      "metadata": {
        "id": "SfITVrQh3rbu"
      },
      "execution_count": 10,
      "outputs": []
    },
    {
      "cell_type": "code",
      "source": [
        "from datasets import load_dataset, DatasetDict\n",
        "dataset_name = \"ncduy/mt-en-vi\"\n",
        "mt_dataset = load_dataset(dataset_name)\n",
        "mt_dataset"
      ],
      "metadata": {
        "colab": {
          "base_uri": "https://localhost:8080/"
        },
        "id": "vzpd7Rd98Cu3",
        "outputId": "c344e765-721c-4bab-cbba-2b894d3e09bc"
      },
      "execution_count": 11,
      "outputs": [
        {
          "output_type": "stream",
          "name": "stderr",
          "text": [
            "/usr/local/lib/python3.11/dist-packages/huggingface_hub/utils/_auth.py:94: UserWarning: \n",
            "The secret `HF_TOKEN` does not exist in your Colab secrets.\n",
            "To authenticate with the Hugging Face Hub, create a token in your settings tab (https://huggingface.co/settings/tokens), set it as secret in your Google Colab and restart your session.\n",
            "You will be able to reuse this secret in all of your notebooks.\n",
            "Please note that authentication is recommended but still optional to access public models or datasets.\n",
            "  warnings.warn(\n"
          ]
        },
        {
          "output_type": "execute_result",
          "data": {
            "text/plain": [
              "DatasetDict({\n",
              "    train: Dataset({\n",
              "        features: ['en', 'vi', 'source'],\n",
              "        num_rows: 2884451\n",
              "    })\n",
              "    validation: Dataset({\n",
              "        features: ['en', 'vi', 'source'],\n",
              "        num_rows: 11316\n",
              "    })\n",
              "    test: Dataset({\n",
              "        features: ['en', 'vi', 'source'],\n",
              "        num_rows: 11225\n",
              "    })\n",
              "})"
            ]
          },
          "metadata": {},
          "execution_count": 11
        }
      ]
    },
    {
      "cell_type": "code",
      "source": [
        "mt_dataset['train'][:10]"
      ],
      "metadata": {
        "colab": {
          "base_uri": "https://localhost:8080/"
        },
        "id": "E2EGhmjqAdSw",
        "outputId": "acfb31ef-b09e-41e8-f059-e64920a02cda"
      },
      "execution_count": 12,
      "outputs": [
        {
          "output_type": "execute_result",
          "data": {
            "text/plain": [
              "{'en': [\"- Sorry, that question's not on here.\",\n",
              "  'He wants you to come with him immediately.',\n",
              "  'I thought we could use some company.',\n",
              "  'It was founded in 2008 by this anonymous programmer using a pseudonym Satoshi Nakamoto.',\n",
              "  'With both of these methods, no two prints are exactly alike, but both reveal dramatic images of the fish.',\n",
              "  'From these contexts was born an installation in the art space of the Queensland University of Technology in Brisbane.',\n",
              "  'I have lived to see something which I never expected.',\n",
              "  'It is the model for all future relationships with friends, with partners and with their own children.',\n",
              "  'Welcome him as your brother.',\n",
              "  'So biologists can make all the mutant fruit flies they want without worrying about it.'],\n",
              " 'vi': ['- Xin lỗi, nhưng mà ở đây không có câu hỏi đấy.',\n",
              "  'Ông ấy muốn bố đi với ông ấy ngay lập tức',\n",
              "  'Tôi nghĩ chúng ta có thể muốn vài người bạn đồng hành.',\n",
              "  'Nó được sáng lập vào năm 2008 bởi một lập trình viên vô danh dưới bút danh Satoshi Nakamoto.',\n",
              "  'Với cả hai phương pháp, không có hai bản in nào giống bản nào, nhưng cả hai đều cho ra hình ảnh ấn tượng.',\n",
              "  'Từ những tình huống này một bố trí không gian nghệ thuật được hình thành trong khu Đại học Công nghệ Queensland ở Brisbane.',\n",
              "  'Ta đã sống để thấy điều ta không bao giờ mong đợi.',\n",
              "  'Đó là mô hình cho tất cả các mối quan hệ trong tương lai với bạn bè, với đối tác và con cái của chúng.',\n",
              "  'Chào mừng nó như anh em của các con.',\n",
              "  'Vậy các nhà sinh vật học có thể biến đổi gene bao nhiêu ruồi giấm họ muốn mà không cần lo lắng.'],\n",
              " 'source': ['OpenSubtitles v2018',\n",
              "  'OpenSubtitles v2018',\n",
              "  'OpenSubtitles v2018',\n",
              "  'TED2020 v1',\n",
              "  'TED2020 v1',\n",
              "  'TED2020 v1',\n",
              "  'OpenSubtitles v2018',\n",
              "  'TED2020 v1',\n",
              "  'OpenSubtitles v2018',\n",
              "  'TED2020 v1']}"
            ]
          },
          "metadata": {},
          "execution_count": 12
        }
      ]
    },
    {
      "cell_type": "code",
      "source": [
        "from transformers import AutoTokenizer\n",
        "tokenizer = AutoTokenizer.from_pretrained(\"xlm-roberta-base\")\n"
      ],
      "metadata": {
        "id": "AVvhdo5YT8rg"
      },
      "execution_count": 13,
      "outputs": []
    },
    {
      "cell_type": "code",
      "source": [
        "small_dataset = DatasetDict(\n",
        "    train=mt_dataset['train'].shuffle(seed=1111).select(range(200000)),\n",
        "    val=mt_dataset['validation'].shuffle(seed=1111).select(range(100)),\n",
        "    test=mt_dataset['test'].shuffle(seed=1111).select(range(100))\n",
        ")"
      ],
      "metadata": {
        "id": "XBtMNG7rXEhQ"
      },
      "execution_count": 14,
      "outputs": []
    },
    {
      "cell_type": "code",
      "source": [
        "def preprocess(example):\n",
        "  model_inputs = tokenizer(example['en'], padding=\"max_length\", max_length=256, truncation=True)\n",
        "\n",
        "  with tokenizer.as_target_tokenizer():\n",
        "    labels = tokenizer(example['vi'], padding=\"max_length\", max_length=256, truncation=True)\n",
        "\n",
        "  model_inputs[\"labels\"] = labels[\"input_ids\"]\n",
        "  return model_inputs"
      ],
      "metadata": {
        "id": "2UmnQzPxejLe"
      },
      "execution_count": 15,
      "outputs": []
    },
    {
      "cell_type": "code",
      "source": [
        "# Prepare dataset for training\n",
        "small_train_set = small_dataset.map(\n",
        "    preprocess,\n",
        "    batched=True,\n",
        "    batch_size=64,\n",
        ")\n"
      ],
      "metadata": {
        "colab": {
          "base_uri": "https://localhost:8080/",
          "height": 168,
          "referenced_widgets": [
            "bbe02ccb15cc44d391825dc06cc8e0aa",
            "c6e26dae2fcf442f92ab3e2054ea51cc",
            "19c20a20325a450981297bbf427ba756",
            "095f049a8ee54aafb0bcae9115d6a673",
            "8188f714a158475a860aa3c5e53ef9e5",
            "dd25cf879c81419b84ec11a3e1d71b6b",
            "f551ed1c7c2843dd8b0b2e2d0b0e4b14",
            "2757eda5134d47d09d0249a2fe6c673b",
            "2cc50a6dd02c4d6f914f05f2d75945c6",
            "ffb04280c31c48269d59558dcb6b32af",
            "3171266f5e4b40dd8c000a46207b4608",
            "a13c6e66753f4be0acaa1a17e94ef9bb",
            "e581d1627f9a4af9bafd3b4539f2bebc",
            "fe4cfaf2211d463fa9ff84fda6b47c83",
            "96f42d047e7e4cfbb9165eb1d94926a1",
            "2c61b2590563463b8d6e58ce824b5ca5",
            "bdf130923f344459bd5423296ac0ac9d",
            "786fb4102885415cae65a253ec456299",
            "05706b73bac241f0958e4ca049cb3396",
            "d50c17cc9f774e89863122e1ab2739ce",
            "afaabea09c2e4d3794defbd65a77ddd9",
            "f9e8f91611014edda8e8f7a6997f006e",
            "17491bdab96348a48ea05cc1b303d79e",
            "1ae6bdcfbec34fc29e2aa905deb2d6e3",
            "a754729e5aab42ba8efa61bf8c13e8c1",
            "95fff8f250284358ad2bc4112ff49b74",
            "5ef7a141de7b4c1192f5c471d7426480",
            "ee01c2d2b59149be894890aeb2184a39",
            "d81fa407b6ef4d628998c921a1d7f886",
            "d0651488f5634d8296034a56b5031dca",
            "a06704837a65405795872b9cf5ceca3d",
            "ca939a5a09134c75b60c0de69cbd7464",
            "68f4f44421074a15926884d6734c73da"
          ]
        },
        "id": "xfB8iT9bVKmo",
        "outputId": "aac9fad4-139f-4b5c-a09f-15f1ee4eb3f1"
      },
      "execution_count": 16,
      "outputs": [
        {
          "output_type": "display_data",
          "data": {
            "text/plain": [
              "Map:   0%|          | 0/200000 [00:00<?, ? examples/s]"
            ],
            "application/vnd.jupyter.widget-view+json": {
              "version_major": 2,
              "version_minor": 0,
              "model_id": "bbe02ccb15cc44d391825dc06cc8e0aa"
            }
          },
          "metadata": {}
        },
        {
          "output_type": "stream",
          "name": "stderr",
          "text": [
            "/usr/local/lib/python3.11/dist-packages/transformers/tokenization_utils_base.py:3950: UserWarning: `as_target_tokenizer` is deprecated and will be removed in v5 of Transformers. You can tokenize your labels by using the argument `text_target` of the regular `__call__` method (either in the same call as your input texts if you use the same keyword arguments, or in a separate call.\n",
            "  warnings.warn(\n"
          ]
        },
        {
          "output_type": "display_data",
          "data": {
            "text/plain": [
              "Map:   0%|          | 0/100 [00:00<?, ? examples/s]"
            ],
            "application/vnd.jupyter.widget-view+json": {
              "version_major": 2,
              "version_minor": 0,
              "model_id": "a13c6e66753f4be0acaa1a17e94ef9bb"
            }
          },
          "metadata": {}
        },
        {
          "output_type": "display_data",
          "data": {
            "text/plain": [
              "Map:   0%|          | 0/100 [00:00<?, ? examples/s]"
            ],
            "application/vnd.jupyter.widget-view+json": {
              "version_major": 2,
              "version_minor": 0,
              "model_id": "17491bdab96348a48ea05cc1b303d79e"
            }
          },
          "metadata": {}
        }
      ]
    },
    {
      "cell_type": "code",
      "source": [
        "small_train_set.set_format(type=\"torch\", columns=[\"input_ids\", \"attention_mask\", \"labels\"])\n"
      ],
      "metadata": {
        "id": "in14LBddcr21"
      },
      "execution_count": 17,
      "outputs": []
    },
    {
      "cell_type": "code",
      "source": [
        "from torch.utils.data import DataLoader\n",
        "train_dataloader = DataLoader(small_train_set['train'], batch_size=4)\n",
        "val_dataloader = DataLoader(small_train_set['val'], batch_size=4)\n",
        "test_dataloader = DataLoader(small_train_set['test'], batch_size=1)"
      ],
      "metadata": {
        "id": "jwzb71W1f3f7"
      },
      "execution_count": 18,
      "outputs": []
    },
    {
      "cell_type": "code",
      "source": [
        "src_max_len = 256\n",
        "tgt_max_len = 256"
      ],
      "metadata": {
        "id": "TM-JhWtUg3rF"
      },
      "execution_count": 19,
      "outputs": []
    },
    {
      "cell_type": "code",
      "source": [
        "model = build_transformer(src_vocab_size=tokenizer.vocab_size, tgt_vocab_size = tokenizer.vocab_size, src_seq_len = src_max_len, tgt_seq_len = tgt_max_len)"
      ],
      "metadata": {
        "id": "lIbypVVOkNlF"
      },
      "execution_count": 20,
      "outputs": []
    },
    {
      "cell_type": "code",
      "source": [
        "def causal_mask(size: int):\n",
        "  mask = torch.triu(torch.ones(1, size, size, dtype=torch.int64), diagonal=1)\n",
        "  return ~mask"
      ],
      "metadata": {
        "id": "yFOjNLBnsGan"
      },
      "execution_count": 21,
      "outputs": []
    },
    {
      "cell_type": "code",
      "source": [
        "def greedy_decode(model: Transformer, tokenizer, source, source_mask, max_seq_len, device):\n",
        "  encoder_output = model.encode(source, source_mask)\n",
        "  decoder_input = torch.tensor([[tokenizer.bos_token_id]], dtype=source.dtype, device=device)\n",
        "\n",
        "  while True:\n",
        "    if decoder_input.size(1) == max_seq_len:\n",
        "      break\n",
        "\n",
        "    decoder_mask = causal_mask(decoder_input.size(1)).type_as(source_mask)\n",
        "\n",
        "    out = model.decode(decoder_input, encoder_output, source_mask, decoder_mask)\n",
        "\n",
        "    out = out[:, -1, :] # Get the final token\n",
        "\n",
        "    _, next_word = torch.max(out, dim=1)\n",
        "\n",
        "    # Align next token to decoder input\n",
        "    next_word = next_word.item()\n",
        "    next_token = torch.tensor([[next_word]], dtype=source.dtype, device=device)\n",
        "    decoder_input = torch.cat([decoder_input, next_token], dim=1)\n",
        "\n",
        "    if next_word == tokenizer.cls_token_id:\n",
        "      break\n",
        "\n",
        "  return decoder_input.squeeze(0) # remove batch dim\n"
      ],
      "metadata": {
        "id": "g5NnXbJI6JQ5"
      },
      "execution_count": 22,
      "outputs": []
    },
    {
      "cell_type": "code",
      "source": [
        "def run_validation(model: Transformer, val_loader, tokenizer, loss_fn, device):\n",
        "  model.eval()\n",
        "  total_loss = 0.0\n",
        "  with torch.no_grad():\n",
        "    for batch in val_loader:\n",
        "      enc_input_ids = batch[\"input_ids\"].to(device)\n",
        "      encoder_mask = batch[\"attention_mask\"].unsqueeze(1).to(device)\n",
        "\n",
        "      dec_input_ids = batch['labels'][:, :-1].to(device)\n",
        "      current_seq_len = dec_input_ids.size(1)\n",
        "      decoder_mask = ((decoder_input_ids != tokenizer.pad_token_id).unsqueeze(1).unsqueeze(2) & causal_mask(current_seq_len)).to(device)\n",
        "\n",
        "      enc_output = model.encode(enc_input_ids, encoder_mask)\n",
        "      dec_output = model.decode(dec_input_ids, enc_output, encoder_mask, decoder_mask)\n",
        "      label = batch['labels'][:, 1:].to(device) #(Batch, seq_len)\n",
        "\n",
        "      dec_output = decoder_output.reshape(-1, tokenizer.vocab_size).to(device)\n",
        "      label = label.reshape(-1).to(device)\n",
        "      loss = loss_fn(decoder_output, label)\n",
        "      total_loss += loss.item()\n",
        "\n",
        "    first_batch = next(iter(val_loader))\n",
        "    batch_input_ids, batch_labels = first_batch\n",
        "\n",
        "  print(f\"Val loss: {total_loss / len(val_loader)}\")"
      ],
      "metadata": {
        "id": "-Cdpr71AAjJE"
      },
      "execution_count": 23,
      "outputs": []
    },
    {
      "cell_type": "code",
      "source": [
        "from tqdm import tqdm\n",
        "import warnings\n",
        "from torch.optim import AdamW\n",
        "warnings.filterwarnings('ignore')\n",
        "\n",
        "device = torch.device('cuda' if torch.cuda.is_available() else 'cpu')\n",
        "print(f\"Using device {device}\")\n",
        "model = model.to(device)\n",
        "optimizer = torch.optim.Adam(model.parameters(), lr=1e-5, eps=1e-9)\n",
        "loss_fn = nn.NLLLoss(ignore_index=tokenizer.pad_token_id).to(device)\n",
        "\n",
        "num_epochs = 1\n",
        "for epoch in range(num_epochs):\n",
        "  model.train()\n",
        "  batch_iterator = tqdm(train_dataloader, desc=f\"Processing epoch {epoch}\")\n",
        "  for batch in batch_iterator:\n",
        "    encoder_input_ids = batch['input_ids'].to(device)\n",
        "    encoder_attention_mask = batch['attention_mask'].unsqueeze(1).unsqueeze(2).to(device)\n",
        "\n",
        "    decoder_input_ids = batch['labels'][:, :-1].to(device) # Train kiểu teacher forcing\n",
        "    current_seq_len = decoder_input_ids.size(1)\n",
        "    decoder_attention_mask = ((decoder_input_ids != tokenizer.pad_token_id).unsqueeze(1).unsqueeze(2) & causal_mask(current_seq_len).to(device)).to(device)\n",
        "\n",
        "    # Run the tensors through the transformer\n",
        "    encoder_output = model.encode(encoder_input_ids, encoder_attention_mask)\n",
        "    decoder_output = model.decode(decoder_input_ids, encoder_output, encoder_attention_mask, decoder_attention_mask)\n",
        "    label = batch['labels'][:, 1:].to(device)\n",
        "\n",
        "    label = label.reshape(-1).to(device)\n",
        "    decoder_output = decoder_output.reshape(-1, tokenizer.vocab_size).to(device)\n",
        "    loss = loss_fn(decoder_output, label)\n",
        "\n",
        "    batch_iterator.set_postfix(loss=f\"{loss.item():.3f}\")\n",
        "\n",
        "    loss.backward()\n",
        "\n",
        "    optimizer.step()\n",
        "    optimizer.zero_grad()\n",
        "  run_validation(model, val_dataloader, tokenizer, loss_fn, device)\n"
      ],
      "metadata": {
        "colab": {
          "base_uri": "https://localhost:8080/",
          "height": 300
        },
        "id": "8kuWh_zLlaZ4",
        "outputId": "311a9497-c9f3-4042-b06a-5b59ee9c2123"
      },
      "execution_count": 24,
      "outputs": [
        {
          "output_type": "stream",
          "name": "stdout",
          "text": [
            "Using device cuda\n"
          ]
        },
        {
          "output_type": "stream",
          "name": "stderr",
          "text": [
            "Processing epoch 0:   0%|          | 48/50000 [00:25<7:26:20,  1.87it/s, loss=12.318]\n"
          ]
        },
        {
          "output_type": "error",
          "ename": "KeyboardInterrupt",
          "evalue": "",
          "traceback": [
            "\u001b[0;31m---------------------------------------------------------------------------\u001b[0m",
            "\u001b[0;31mKeyboardInterrupt\u001b[0m                         Traceback (most recent call last)",
            "\u001b[0;32m/tmp/ipython-input-3409675032.py\u001b[0m in \u001b[0;36m<cell line: 0>\u001b[0;34m()\u001b[0m\n\u001b[1;32m     25\u001b[0m     \u001b[0mencoder_output\u001b[0m \u001b[0;34m=\u001b[0m \u001b[0mmodel\u001b[0m\u001b[0;34m.\u001b[0m\u001b[0mencode\u001b[0m\u001b[0;34m(\u001b[0m\u001b[0mencoder_input_ids\u001b[0m\u001b[0;34m,\u001b[0m \u001b[0mencoder_attention_mask\u001b[0m\u001b[0;34m)\u001b[0m\u001b[0;34m\u001b[0m\u001b[0;34m\u001b[0m\u001b[0m\n\u001b[1;32m     26\u001b[0m     \u001b[0mdecoder_output\u001b[0m \u001b[0;34m=\u001b[0m \u001b[0mmodel\u001b[0m\u001b[0;34m.\u001b[0m\u001b[0mdecode\u001b[0m\u001b[0;34m(\u001b[0m\u001b[0mdecoder_input_ids\u001b[0m\u001b[0;34m,\u001b[0m \u001b[0mencoder_output\u001b[0m\u001b[0;34m,\u001b[0m \u001b[0mencoder_attention_mask\u001b[0m\u001b[0;34m,\u001b[0m \u001b[0mdecoder_attention_mask\u001b[0m\u001b[0;34m)\u001b[0m\u001b[0;34m\u001b[0m\u001b[0;34m\u001b[0m\u001b[0m\n\u001b[0;32m---> 27\u001b[0;31m     \u001b[0mlabel\u001b[0m \u001b[0;34m=\u001b[0m \u001b[0mbatch\u001b[0m\u001b[0;34m[\u001b[0m\u001b[0;34m'labels'\u001b[0m\u001b[0;34m]\u001b[0m\u001b[0;34m[\u001b[0m\u001b[0;34m:\u001b[0m\u001b[0;34m,\u001b[0m \u001b[0;36m1\u001b[0m\u001b[0;34m:\u001b[0m\u001b[0;34m]\u001b[0m\u001b[0;34m.\u001b[0m\u001b[0mto\u001b[0m\u001b[0;34m(\u001b[0m\u001b[0mdevice\u001b[0m\u001b[0;34m)\u001b[0m\u001b[0;34m\u001b[0m\u001b[0;34m\u001b[0m\u001b[0m\n\u001b[0m\u001b[1;32m     28\u001b[0m \u001b[0;34m\u001b[0m\u001b[0m\n\u001b[1;32m     29\u001b[0m     \u001b[0mlabel\u001b[0m \u001b[0;34m=\u001b[0m \u001b[0mlabel\u001b[0m\u001b[0;34m.\u001b[0m\u001b[0mreshape\u001b[0m\u001b[0;34m(\u001b[0m\u001b[0;34m-\u001b[0m\u001b[0;36m1\u001b[0m\u001b[0;34m)\u001b[0m\u001b[0;34m.\u001b[0m\u001b[0mto\u001b[0m\u001b[0;34m(\u001b[0m\u001b[0mdevice\u001b[0m\u001b[0;34m)\u001b[0m\u001b[0;34m\u001b[0m\u001b[0;34m\u001b[0m\u001b[0m\n",
            "\u001b[0;31mKeyboardInterrupt\u001b[0m: "
          ]
        }
      ]
    }
  ]
}